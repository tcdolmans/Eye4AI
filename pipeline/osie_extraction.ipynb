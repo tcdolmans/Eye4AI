{
 "cells": [
  {
   "cell_type": "code",
   "execution_count": 11,
   "metadata": {},
   "outputs": [
    {
     "ename": "MemoryError",
     "evalue": "Unable to allocate 30.0 GiB for an array with shape (700, 12, 600, 800) and data type float64",
     "output_type": "error",
     "traceback": [
      "\u001b[1;31m---------------------------------------------------------------------------\u001b[0m",
      "\u001b[1;31mMemoryError\u001b[0m                               Traceback (most recent call last)",
      "Cell \u001b[1;32mIn[11], line 6\u001b[0m\n\u001b[0;32m      3\u001b[0m \u001b[39mfrom\u001b[39;00m \u001b[39mutils\u001b[39;00m \u001b[39mimport\u001b[39;00m list_files\n\u001b[0;32m      4\u001b[0m files \u001b[39m=\u001b[39m list_files(\u001b[39m'\u001b[39m\u001b[39mOSIE_tags/\u001b[39m\u001b[39m'\u001b[39m)\n\u001b[1;32m----> 6\u001b[0m mother_matrix \u001b[39m=\u001b[39m np\u001b[39m.\u001b[39;49mzeros((\u001b[39m700\u001b[39;49m, \u001b[39m12\u001b[39;49m, \u001b[39m600\u001b[39;49m, \u001b[39m800\u001b[39;49m))\n\u001b[0;32m      7\u001b[0m \u001b[39mfor\u001b[39;00m i, file \u001b[39min\u001b[39;00m \u001b[39menumerate\u001b[39m(files):\n\u001b[0;32m      8\u001b[0m     \u001b[39mprint\u001b[39m(i)\n",
      "\u001b[1;31mMemoryError\u001b[0m: Unable to allocate 30.0 GiB for an array with shape (700, 12, 600, 800) and data type float64"
     ]
    }
   ],
   "source": [
    "import scipy.io as sio\n",
    "import numpy as np\n",
    "from utils import list_files\n",
    "files = list_files('OSIE_tags/')\n",
    "\n",
    "mother_matrix = np.zeros((700, 12, 600, 800))\n",
    "for i, file in enumerate(files):\n",
    "    print(i)\n",
    "    mat = sio.loadmat(file)\n",
    "    mat = np.array(mat['data'])\n",
    "    "
   ]
  }
 ],
 "metadata": {
  "kernelspec": {
   "display_name": "thesis1",
   "language": "python",
   "name": "python3"
  },
  "language_info": {
   "codemirror_mode": {
    "name": "ipython",
    "version": 3
   },
   "file_extension": ".py",
   "mimetype": "text/x-python",
   "name": "python",
   "nbconvert_exporter": "python",
   "pygments_lexer": "ipython3",
   "version": "3.10.9"
  },
  "orig_nbformat": 4
 },
 "nbformat": 4,
 "nbformat_minor": 2
}
